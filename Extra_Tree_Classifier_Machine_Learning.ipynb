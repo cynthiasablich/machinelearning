{
  "nbformat": 4,
  "nbformat_minor": 0,
  "metadata": {
    "colab": {
      "name": "Extra Tree Classifier Machine Learning.ipynb",
      "provenance": [],
      "collapsed_sections": []
    },
    "kernelspec": {
      "name": "python3",
      "display_name": "Python 3"
    }
  },
  "cells": [
    {
      "cell_type": "code",
      "metadata": {
        "id": "zFCZUZiHmIx0"
      },
      "source": [
        "# 1 modelo de extra tree classifier usando dataset da iris\n",
        "from sklearn.ensemble import ExtraTreesClassifier\n",
        "from sklearn.model_selection import train_test_split\n",
        "from sklearn.model_selection import cross_val_score\n",
        "from sklearn.datasets import load_iris\n",
        "from sklearn.metrics import confusion_matrix\n"
      ],
      "execution_count": null,
      "outputs": []
    },
    {
      "cell_type": "code",
      "metadata": {
        "id": "fAbwTne6mKCn"
      },
      "source": [
        "iris = load_iris()\n",
        "x, y = iris.data, iris.target\n",
        "x_train, x_test, y_train, y_test = train_test_split(x, y, test_size = 0.15)"
      ],
      "execution_count": null,
      "outputs": []
    },
    {
      "cell_type": "code",
      "metadata": {
        "colab": {
          "base_uri": "https://localhost:8080/"
        },
        "id": "ZPp49mOVmJ_b",
        "outputId": "dd582b79-fd47-4d28-8040-e5f59614ee44"
      },
      "source": [
        "etc = ExtraTreesClassifier(n_estimators=100)\n",
        "print(etc)"
      ],
      "execution_count": null,
      "outputs": [
        {
          "output_type": "stream",
          "text": [
            "ExtraTreesClassifier(bootstrap=False, ccp_alpha=0.0, class_weight=None,\n",
            "                     criterion='gini', max_depth=None, max_features='auto',\n",
            "                     max_leaf_nodes=None, max_samples=None,\n",
            "                     min_impurity_decrease=0.0, min_impurity_split=None,\n",
            "                     min_samples_leaf=1, min_samples_split=2,\n",
            "                     min_weight_fraction_leaf=0.0, n_estimators=100,\n",
            "                     n_jobs=None, oob_score=False, random_state=None, verbose=0,\n",
            "                     warm_start=False)\n"
          ],
          "name": "stdout"
        }
      ]
    },
    {
      "cell_type": "code",
      "metadata": {
        "colab": {
          "base_uri": "https://localhost:8080/"
        },
        "id": "wMVai6jQmJ8R",
        "outputId": "3a638420-9644-4408-cb32-c9c9fc7cd03e"
      },
      "source": [
        "etc.fit(x_train,y_train)\n",
        "score =etc.score(x_train,y_train)\n",
        "print ('Score:', score)"
      ],
      "execution_count": null,
      "outputs": [
        {
          "output_type": "stream",
          "text": [
            "Score: 1.0\n"
          ],
          "name": "stdout"
        }
      ]
    },
    {
      "cell_type": "code",
      "metadata": {
        "colab": {
          "base_uri": "https://localhost:8080/"
        },
        "id": "1W0qkgzvmJ5r",
        "outputId": "13b08e4c-c3a8-4b0f-cfd2-f2576572b1e7"
      },
      "source": [
        "cv_scores= cross_val_score(etc, x_train, y_train, cv=5)\n",
        "print ('cv average score: ', cv_scores)"
      ],
      "execution_count": null,
      "outputs": [
        {
          "output_type": "stream",
          "text": [
            "cv average score:  [0.96153846 0.88461538 0.88       1.         1.        ]\n"
          ],
          "name": "stdout"
        }
      ]
    },
    {
      "cell_type": "code",
      "metadata": {
        "colab": {
          "base_uri": "https://localhost:8080/"
        },
        "id": "T4suLiECmJ22",
        "outputId": "c5aea834-05e1-47f5-ac0a-783b67f14610"
      },
      "source": [
        "print ('cv average score: ', cv_scores.mean())"
      ],
      "execution_count": null,
      "outputs": [
        {
          "output_type": "stream",
          "text": [
            "cv average score:  0.9452307692307691\n"
          ],
          "name": "stdout"
        }
      ]
    },
    {
      "cell_type": "code",
      "metadata": {
        "colab": {
          "base_uri": "https://localhost:8080/"
        },
        "id": "P3UFL6RemJ0I",
        "outputId": "7c301591-ecbd-4f64-e97d-bc41efa2ecb2"
      },
      "source": [
        "y_pred = etc.predict(x_test)\n",
        "cm = confusion_matrix (y_test,y_pred)\n",
        "print (cm)"
      ],
      "execution_count": null,
      "outputs": [
        {
          "output_type": "stream",
          "text": [
            "[[ 6  0  0]\n",
            " [ 0  7  0]\n",
            " [ 0  0 10]]\n"
          ],
          "name": "stdout"
        }
      ]
    },
    {
      "cell_type": "code",
      "metadata": {
        "id": "VMjXZwNoqHVB"
      },
      "source": [
        ""
      ],
      "execution_count": null,
      "outputs": []
    },
    {
      "cell_type": "code",
      "metadata": {
        "id": "CfFbOtlpq3lP"
      },
      "source": [
        ""
      ],
      "execution_count": null,
      "outputs": []
    },
    {
      "cell_type": "code",
      "metadata": {
        "id": "FhHWCvkBq3Xs"
      },
      "source": [
        ""
      ],
      "execution_count": null,
      "outputs": []
    }
  ]
}