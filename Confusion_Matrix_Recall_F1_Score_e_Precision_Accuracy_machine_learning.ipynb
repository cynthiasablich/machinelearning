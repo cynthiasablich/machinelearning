{
  "nbformat": 4,
  "nbformat_minor": 0,
  "metadata": {
    "colab": {
      "name": "Confusion Matrix  Recall F1 Score e Precision Accuracy machine learning.ipynb",
      "provenance": [],
      "collapsed_sections": []
    },
    "kernelspec": {
      "name": "python3",
      "display_name": "Python 3"
    }
  },
  "cells": [
    {
      "cell_type": "code",
      "metadata": {
        "colab": {
          "base_uri": "https://localhost:8080/"
        },
        "id": "giCJnCHck2Xj",
        "outputId": "64e57f9f-6fec-4567-f30d-172489c3340f"
      },
      "source": [
        "#confusion matrix - modelo 1\n",
        "import numpy as np\n",
        "X = np.array([.50,1.50,2.00,4.25,3.25,5.50], ndmin=2).reshape((6,1))\n",
        "y = np.array([0,0,0,1,1,1])\n",
        "X_mean = np.mean(X)\n",
        "y_mean = np.mean(y)\n",
        "n = len(X)\n",
        "class LogisticRegression:\n",
        "    b0 = 0\n",
        "    b1 = 0\n",
        "    y_pred = np.array([])\n",
        "    true_positives = 0\n",
        "    true_negatives = 0\n",
        "    false_positives = 0\n",
        "    false_negatives = 0\n",
        "    def fit(self, X, y):\n",
        "        upward_function = 0\n",
        "        downward_function = 0\n",
        "        for i in range(n):\n",
        "            upward_function += (X[i]-X_mean)*(y[i]-y_mean)\n",
        "            downward_function += (X[i]-X_mean)**2\n",
        "        self.b1 = upward_function / downward_function\n",
        "        self.b0 = y_mean - (self.b1*X_mean)\n",
        "        return self.b0, self.b1\n",
        "    \n",
        "    def predict(self, Xi):\n",
        "        z = self.b0 + (self.b1*Xi)\n",
        "        sigmoid = 1/(1 + np.exp(-z))\n",
        "        for i in range(n):\n",
        "            if sigmoid[i] >= 0.5:\n",
        "                self.y_pred = np.append(self.y_pred, [1])\n",
        "            else:\n",
        "                self.y_pred = np.append(self.y_pred, [0])\n",
        "        return sigmoid, self.y_pred\n",
        "    \n",
        "    def confusion_matrix(self):\n",
        "        for i in range(n):\n",
        "            if y[i]==1 and self.y_pred[i]==1:\n",
        "                self.true_positives += 1\n",
        "            if y[i]==0 and self.y_pred[i]==0:\n",
        "                self.true_negatives += 1\n",
        "            if y[i]==1 and self.y_pred[i]==0:\n",
        "                self.false_negatives += 1\n",
        "            if y[i]==0 and self.y_pred[i]==1:\n",
        "                self.false_positives += 1\n",
        "                \n",
        "        matrix = np.array([self.true_positives, self.false_negatives, self.false_positives, self.true_negatives]).reshape((2,2))\n",
        "        return matrix\n",
        "\n",
        "model = LogisticRegression()\n",
        "print(model.fit(X, y))\n"
      ],
      "execution_count": null,
      "outputs": [
        {
          "output_type": "stream",
          "text": [
            "(array([-0.2409201]), array([0.26150121]))\n"
          ],
          "name": "stdout"
        }
      ]
    },
    {
      "cell_type": "code",
      "metadata": {
        "colab": {
          "base_uri": "https://localhost:8080/"
        },
        "id": "3xvoxwM0lDTZ",
        "outputId": "a1c480d7-ed5f-40d7-9999-42df70f92273"
      },
      "source": [
        "print(model.predict(X))\n"
      ],
      "execution_count": null,
      "outputs": [
        {
          "output_type": "stream",
          "text": [
            "(array([[0.47248545],\n",
            "       [0.53776089],\n",
            "       [0.57005666],\n",
            "       [0.70484142],\n",
            "       [0.64770326],\n",
            "       [0.76805063]]), array([0., 1., 1., 1., 1., 1.]))\n"
          ],
          "name": "stdout"
        }
      ]
    },
    {
      "cell_type": "code",
      "metadata": {
        "colab": {
          "base_uri": "https://localhost:8080/"
        },
        "id": "nEyO6YZ5lDP6",
        "outputId": "8e82913b-5b63-42ad-ca0a-7287150b9130"
      },
      "source": [
        "model.confusion_matrix()"
      ],
      "execution_count": null,
      "outputs": [
        {
          "output_type": "execute_result",
          "data": {
            "text/plain": [
              "array([[3, 0],\n",
              "       [2, 1]])"
            ]
          },
          "metadata": {
            "tags": []
          },
          "execution_count": 5
        }
      ]
    },
    {
      "cell_type": "code",
      "metadata": {
        "colab": {
          "base_uri": "https://localhost:8080/"
        },
        "id": "ciDH2I98lDNb",
        "outputId": "b2e0c028-5df5-4fba-fbfa-351d7fbff1c9"
      },
      "source": [
        "from sklearn.linear_model import LogisticRegression\n",
        "lr = LogisticRegression(penalty='none')\n",
        "lr.fit(X, y)\n",
        "y_pred = lr.predict(X)\n",
        "y_pred"
      ],
      "execution_count": null,
      "outputs": [
        {
          "output_type": "execute_result",
          "data": {
            "text/plain": [
              "array([0, 0, 0, 1, 1, 1])"
            ]
          },
          "metadata": {
            "tags": []
          },
          "execution_count": 6
        }
      ]
    },
    {
      "cell_type": "code",
      "metadata": {
        "colab": {
          "base_uri": "https://localhost:8080/"
        },
        "id": "bgLxHtEFl80z",
        "outputId": "8ee594f1-a1b2-4a45-c2aa-79762a395582"
      },
      "source": [
        "from sklearn.metrics import confusion_matrix\n",
        "confusion_matrix(y, y_pred)"
      ],
      "execution_count": null,
      "outputs": [
        {
          "output_type": "execute_result",
          "data": {
            "text/plain": [
              "array([[3, 0],\n",
              "       [0, 3]])"
            ]
          },
          "metadata": {
            "tags": []
          },
          "execution_count": 7
        }
      ]
    },
    {
      "cell_type": "code",
      "metadata": {
        "colab": {
          "base_uri": "https://localhost:8080/",
          "height": 283
        },
        "id": "i2Gj1L7nl8xR",
        "outputId": "583c9dae-785f-4a01-f572-8a0bcc63ccd6"
      },
      "source": [
        "\n",
        "from sklearn.metrics import plot_confusion_matrix\n",
        "%matplotlib inline\n",
        "import matplotlib.pyplot as plt\n",
        "plot_confusion_matrix(lr, X, y)\n",
        "plt.show()"
      ],
      "execution_count": null,
      "outputs": [
        {
          "output_type": "display_data",
          "data": {
            "image/png": "[encoded data removed]",
            "text/plain": [
              "<Figure size 432x288 with 2 Axes>"
            ]
          },
          "metadata": {
            "tags": [],
            "needs_background": "light"
          }
        }
      ]
    },
    {
      "cell_type": "code",
      "metadata": {
        "id": "Q6eiy6lHl8u4"
      },
      "source": [
        "# Confusion matrix - 2 modelo \n",
        "import seaborn as sns\n",
        "import pandas as pd\n",
        "import matplotlib.pyplot as plt\n",
        "%matplotlib inline\n",
        "sns.set(font_scale=2)\n",
        "from seaborn import heatmap"
      ],
      "execution_count": null,
      "outputs": []
    },
    {
      "cell_type": "code",
      "metadata": {
        "colab": {
          "base_uri": "https://localhost:8080/",
          "height": 483
        },
        "id": "ftHl9kqKl8r3",
        "outputId": "90581925-2443-41a1-b4fc-e2ec287d817e"
      },
      "source": [
        "# plotando a matrix de confusão \n",
        "array = [[5,0,0,0],  # when input was A, prediction was all A\n",
        "         [0,10,0,0], # when input was B, prediction was all A\n",
        "         [0,0,15,0], # when input was C, prediction was all A\n",
        "         [0,0,0,5]]  # when input was D, prediction was all A\n",
        "df_cm = pd.DataFrame(array, index = [i for i in \"ABCD\"],\n",
        "                  columns = [i for i in \"ABCD\"])\n",
        "plt.figure(figsize = (10,7))\n",
        "plt.title('confusion matrix without confusion')\n",
        "sns.heatmap(df_cm, annot=True)\n"
      ],
      "execution_count": null,
      "outputs": [
        {
          "output_type": "execute_result",
          "data": {
            "text/plain": [
              "<matplotlib.axes._subplots.AxesSubplot at 0x7feba455d390>"
            ]
          },
          "metadata": {
            "tags": []
          },
          "execution_count": 13
        },
        {
          "output_type": "display_data",
          "data": {
            "image/png": "[encoded data removed]",
            "text/plain": [
              "<Figure size 720x504 with 2 Axes>"
            ]
          },
          "metadata": {
            "tags": []
          }
        }
      ]
    },
    {
      "cell_type": "code",
      "metadata": {
        "colab": {
          "base_uri": "https://localhost:8080/",
          "height": 483
        },
        "id": "7S0Bzb_1l8pV",
        "outputId": "4bd86369-d871-4800-8d2c-211fced2a268"
      },
      "source": [
        "# confusion matrix with confusion\n",
        "array = [[9,1,0,0],  # when input was A, prediction was A for 9 times, B for 1 time \n",
        "         [1,15,3,1], # when input was B, prediction was A for 1 time, B for 15 times, C for 3 times\n",
        "         [5,0,24,1], # when input was C, prediction was A for 5 times, C for 24 times, D for 1 time\n",
        "         [0,4,1,15]] # when input was D, prediction was B for 4 times, C for 1 time, D for 15 timess\n",
        "\n",
        "df_cm = pd.DataFrame(array, index = [i for i in \"ABCD\"],\n",
        "                  columns = [i for i in \"ABCD\"])\n",
        "plt.figure(figsize = (10,7))\n",
        "plt.title('confusion matrix without normalization')\n",
        "sns.heatmap(df_cm, annot=True)"
      ],
      "execution_count": null,
      "outputs": [
        {
          "output_type": "execute_result",
          "data": {
            "text/plain": [
              "<matplotlib.axes._subplots.AxesSubplot at 0x7feba45e29d0>"
            ]
          },
          "metadata": {
            "tags": []
          },
          "execution_count": 15
        },
        {
          "output_type": "display_data",
          "data": {
            "image/png": "[encoded data removed]",
            "text/plain": [
              "<Figure size 720x504 with 2 Axes>"
            ]
          },
          "metadata": {
            "tags": []
          }
        }
      ]
    },
    {
      "cell_type": "code",
      "metadata": {
        "id": "gNkiKhI2niqP"
      },
      "source": [
        "# confusion matrix with normalization\n",
        "import numpy as np\n",
        "from numpy import linalg as LA\n"
      ],
      "execution_count": null,
      "outputs": []
    },
    {
      "cell_type": "code",
      "metadata": {
        "id": "zi2NS_sgnv8L"
      },
      "source": [
        "total = np.sum(array, axis = 1)\n",
        "array = array / total[:,None]\n"
      ],
      "execution_count": null,
      "outputs": []
    },
    {
      "cell_type": "code",
      "metadata": {
        "colab": {
          "base_uri": "https://localhost:8080/"
        },
        "id": "abYhggZ9nv49",
        "outputId": "2c0cefde-6693-43ad-9662-bf909f0eb1d8"
      },
      "source": [
        "array"
      ],
      "execution_count": null,
      "outputs": [
        {
          "output_type": "execute_result",
          "data": {
            "text/plain": [
              "array([[0.9       , 0.1       , 0.        , 0.        ],\n",
              "       [0.05      , 0.75      , 0.15      , 0.05      ],\n",
              "       [0.16666667, 0.        , 0.8       , 0.03333333],\n",
              "       [0.        , 0.2       , 0.05      , 0.75      ]])"
            ]
          },
          "metadata": {
            "tags": []
          },
          "execution_count": 18
        }
      ]
    },
    {
      "cell_type": "code",
      "metadata": {
        "colab": {
          "base_uri": "https://localhost:8080/",
          "height": 483
        },
        "id": "1VH17yF0nv2F",
        "outputId": "b7acaf11-9a0b-46e1-e69a-7d7a0bcb8f76"
      },
      "source": [
        "df_cm = pd.DataFrame(array, index = [i for i in \"ABCD\"],\n",
        "                  columns = [i for i in \"ABCD\"])\n",
        "plt.figure(figsize = (10,7))\n",
        "plt.title('confusion matrix with normalization')\n",
        "sns.heatmap(df_cm, annot=True)\n"
      ],
      "execution_count": null,
      "outputs": [
        {
          "output_type": "execute_result",
          "data": {
            "text/plain": [
              "<matplotlib.axes._subplots.AxesSubplot at 0x7feba546cb90>"
            ]
          },
          "metadata": {
            "tags": []
          },
          "execution_count": 19
        },
        {
          "output_type": "display_data",
          "data": {
            "image/png": "[encoded data removed]",
            "text/plain": [
              "<Figure size 720x504 with 2 Axes>"
            ]
          },
          "metadata": {
            "tags": []
          }
        }
      ]
    },
    {
      "cell_type": "code",
      "metadata": {
        "id": "fBiPwktJ6wqd"
      },
      "source": [
        "import numpy as np\n",
        "y_pred = np.zeros(10000)\n",
        "y_test = np.zeros(10000)\n",
        "ind1=np.random.randint(0,10000,300)\n",
        "ind2=np.random.randint(0,10000,400)\n",
        "ind3=np.random.randint(0,10000,500)\n",
        "y_pred[ind1]= 1\n",
        "y_test[ind2]=1\n",
        "y_pred[ind3]= 1\n",
        "y_test[ind3]=1"
      ],
      "execution_count": null,
      "outputs": []
    },
    {
      "cell_type": "code",
      "metadata": {
        "colab": {
          "base_uri": "https://localhost:8080/"
        },
        "id": "1Q1tpmai6wm9",
        "outputId": "572ce136-8cf1-4462-d144-7fbd9106b61a"
      },
      "source": [
        "np.sum(y_test)"
      ],
      "execution_count": null,
      "outputs": [
        {
          "output_type": "execute_result",
          "data": {
            "text/plain": [
              "856.0"
            ]
          },
          "metadata": {
            "tags": []
          },
          "execution_count": 7
        }
      ]
    },
    {
      "cell_type": "code",
      "metadata": {
        "colab": {
          "base_uri": "https://localhost:8080/"
        },
        "id": "YDU5riV56wkb",
        "outputId": "cb85f1d2-8cea-4a4d-d816-96698eafe8dd"
      },
      "source": [
        "np.sum(y_pred)"
      ],
      "execution_count": null,
      "outputs": [
        {
          "output_type": "execute_result",
          "data": {
            "text/plain": [
              "780.0"
            ]
          },
          "metadata": {
            "tags": []
          },
          "execution_count": 8
        }
      ]
    },
    {
      "cell_type": "code",
      "metadata": {
        "colab": {
          "base_uri": "https://localhost:8080/"
        },
        "id": "eS5S7ok06whw",
        "outputId": "a7b53ac7-644a-4aab-c350-14f42cff4618"
      },
      "source": [
        "from sklearn.metrics import accuracy_score\n",
        "print ('Accuracy Score: ', accuracy_score(y_test,y_pred))"
      ],
      "execution_count": null,
      "outputs": [
        {
          "output_type": "stream",
          "text": [
            "Accuracy Score:  0.937\n"
          ],
          "name": "stdout"
        }
      ]
    },
    {
      "cell_type": "code",
      "metadata": {
        "colab": {
          "base_uri": "https://localhost:8080/"
        },
        "id": "odKC_9eg6wev",
        "outputId": "357f08d7-ecca-4b70-c39d-03f89bf5fbc2"
      },
      "source": [
        "from sklearn.metrics import confusion_matrix\n",
        "confusion_matrix(y_test, y_pred)"
      ],
      "execution_count": null,
      "outputs": [
        {
          "output_type": "execute_result",
          "data": {
            "text/plain": [
              "array([[8867,  277],\n",
              "       [ 353,  503]])"
            ]
          },
          "metadata": {
            "tags": []
          },
          "execution_count": 10
        }
      ]
    },
    {
      "cell_type": "code",
      "metadata": {
        "colab": {
          "base_uri": "https://localhost:8080/"
        },
        "id": "3qUqWtFT998H",
        "outputId": "b8c5c9c3-4bbc-49ba-8ee8-429adf3043f1"
      },
      "source": [
        "from sklearn.metrics import classification_report\n",
        "print ( classification_report(y_test,y_pred))"
      ],
      "execution_count": null,
      "outputs": [
        {
          "output_type": "stream",
          "text": [
            "              precision    recall  f1-score   support\n",
            "\n",
            "         0.0       0.96      0.97      0.97      9144\n",
            "         1.0       0.64      0.59      0.61       856\n",
            "\n",
            "    accuracy                           0.94     10000\n",
            "   macro avg       0.80      0.78      0.79     10000\n",
            "weighted avg       0.93      0.94      0.94     10000\n",
            "\n"
          ],
          "name": "stdout"
        }
      ]
    },
    {
      "cell_type": "code",
      "metadata": {
        "id": "VtP5y8ha994c"
      },
      "source": [
        "from sklearn.metrics import precision_recall_curve\n",
        "precision, recall, thresholds = precision_recall_curve(y_test,y_pred)"
      ],
      "execution_count": null,
      "outputs": []
    },
    {
      "cell_type": "code",
      "metadata": {
        "colab": {
          "base_uri": "https://localhost:8080/"
        },
        "id": "hJu-Fzug9919",
        "outputId": "c7c37732-7ae9-459c-8bdd-512f17668618"
      },
      "source": [
        "precision"
      ],
      "execution_count": null,
      "outputs": [
        {
          "output_type": "execute_result",
          "data": {
            "text/plain": [
              "array([0.0856    , 0.64487179, 1.        ])"
            ]
          },
          "metadata": {
            "tags": []
          },
          "execution_count": 15
        }
      ]
    },
    {
      "cell_type": "code",
      "metadata": {
        "colab": {
          "base_uri": "https://localhost:8080/"
        },
        "id": "SiptOmOg99zg",
        "outputId": "3c0a24d7-5bb3-4e3d-d681-7a5fe46a5743"
      },
      "source": [
        "recall"
      ],
      "execution_count": null,
      "outputs": [
        {
          "output_type": "execute_result",
          "data": {
            "text/plain": [
              "array([1.        , 0.58761682, 0.        ])"
            ]
          },
          "metadata": {
            "tags": []
          },
          "execution_count": 16
        }
      ]
    },
    {
      "cell_type": "code",
      "metadata": {
        "colab": {
          "base_uri": "https://localhost:8080/"
        },
        "id": "H2O_5LEL-6k3",
        "outputId": "deb41feb-faa8-480a-f3a5-8dfb36310c1e"
      },
      "source": [
        "thresholds"
      ],
      "execution_count": null,
      "outputs": [
        {
          "output_type": "execute_result",
          "data": {
            "text/plain": [
              "array([0., 1.])"
            ]
          },
          "metadata": {
            "tags": []
          },
          "execution_count": 17
        }
      ]
    }
  ]
}